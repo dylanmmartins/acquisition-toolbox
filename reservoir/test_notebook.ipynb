{
 "cells": [
  {
   "cell_type": "code",
   "execution_count": null,
   "metadata": {},
   "outputs": [],
   "source": [
    "import numpy as np"
   ]
  },
  {
   "cell_type": "code",
   "execution_count": null,
   "metadata": {},
   "outputs": [],
   "source": [
    "np.zeros([20, 2, 2])"
   ]
  },
  {
   "cell_type": "code",
   "execution_count": null,
   "metadata": {},
   "outputs": [],
   "source": [
    "props = {\n",
    "            'sf_list': [0.01, 0.02],\n",
    "            'tf_list': [0.5, 1], # reversals per sec\n",
    "            'shuffle': False,\n",
    "            'num_repeats': 1\n",
    "        }\n",
    "\n",
    "props['sf_list'][0]"
   ]
  },
  {
   "cell_type": "code",
   "execution_count": null,
   "metadata": {},
   "outputs": [],
   "source": [
    "test_instructions = []\n",
    "\n",
    "for sf in props['sf_list']:\n",
    "    for tf in props['tf_list']:\n",
    "        test_instructions.append({\n",
    "            'sf': sf,\n",
    "            'tf': tf\n",
    "        })\n",
    "\n",
    "print(test_instructions)\n",
    "# print(test_instructions[2])"
   ]
  },
  {
   "cell_type": "code",
   "execution_count": null,
   "metadata": {},
   "outputs": [],
   "source": [
    "stim_stack_tf = []\n",
    "for s in test_instructions:\n",
    "    stim_stack_tf.append(s['tf'])\n",
    "\n",
    "print(stim_stack_tf)"
   ]
  },
  {
   "cell_type": "code",
   "execution_count": 7,
   "metadata": {},
   "outputs": [
    {
     "name": "stdout",
     "output_type": "stream",
     "text": [
      "[800, 600]\n"
     ]
    }
   ],
   "source": [
    "from psychopy import monitors\n",
    "\n",
    "mon1 = monitors.Monitor(name='mon1',\n",
    "                        width=24,\n",
    "                        distance=20)\n",
    "\n",
    "mon1.currentCalib['sizePix'] = (800,600)\n",
    "\n",
    "print(mon1.getSizePix())"
   ]
  },
  {
   "cell_type": "code",
   "execution_count": null,
   "metadata": {},
   "outputs": [],
   "source": []
  }
 ],
 "metadata": {
  "kernelspec": {
   "display_name": "acq1",
   "language": "python",
   "name": "python3"
  },
  "language_info": {
   "codemirror_mode": {
    "name": "ipython",
    "version": 3
   },
   "file_extension": ".py",
   "mimetype": "text/x-python",
   "name": "python",
   "nbconvert_exporter": "python",
   "pygments_lexer": "ipython3",
   "version": "3.11.8"
  }
 },
 "nbformat": 4,
 "nbformat_minor": 2
}
